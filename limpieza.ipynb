{
 "cells": [
  {
   "cell_type": "code",
   "execution_count": 186,
   "metadata": {},
   "outputs": [],
   "source": [
    "import pandas as pd\n",
    "import re\n",
    "from datetime import datetime\n",
    "\n",
    "\n",
    "df = pd.read_csv(\"solicitudes_credito.csv\", sep=\";\", index_col=0)\n",
    "\n",
    "#null and duplicated\n",
    "df = df.dropna(axis=0)\n",
    "df = df.drop_duplicates()\n",
    "\n",
    "#uppercase and lowercase\n",
    "cat_cols = ['sexo', 'tipo_de_emprendimiento', 'idea_negocio', 'línea_credito', \"barrio\"]\n",
    "\n",
    "df[cat_cols] = df[cat_cols].apply(lambda x: x.str.lower())\n",
    "\n",
    "#modify spaces and replace values\n",
    "cols_to_modify_spaces = [\"idea_negocio\", \"barrio\", \"línea_credito\"]\n",
    "\n",
    "df[cols_to_modify_spaces] = df[cols_to_modify_spaces].apply(lambda x: x.str.replace(\"-\", \" \"))\n",
    "df[cols_to_modify_spaces] = df[cols_to_modify_spaces].apply(lambda x: x.str.replace(\"_\", \" \"))\n",
    "\n",
    "# convert comuna to int\n",
    "df[\"comuna_ciudadano\"] = df[\"comuna_ciudadano\"].astype(int)\n",
    "\n",
    "#format monto_del_credito\n",
    "df[\"monto_del_credito\"] = df[\"monto_del_credito\"].str.strip(\"$\")\n",
    "df[\"monto_del_credito\"] = df[\"monto_del_credito\"].apply(lambda x: x.replace(\",\", \"\").strip())\n",
    "df[\"monto_del_credito\"] = df[\"monto_del_credito\"].apply(lambda x: x.split(\".\")).str[0]\n",
    "\n",
    "#date\n",
    "df['fecha_de_beneficio'] = df['fecha_de_beneficio'].apply(lambda x: datetime.strptime(x, \"%Y/%m/%d\") if (len(re.findall(\"^\\d+/\", x)[0]) - 1) == 4 else datetime.strptime(x, \"%d/%m/%Y\"))\n",
    "\n",
    "\n",
    "df.drop_duplicates(inplace = True)\n",
    "\n",
    "\n",
    "\n",
    "\n"
   ]
  }
 ],
 "metadata": {
  "kernelspec": {
   "display_name": "Python 3.9.12 ('dsbasics')",
   "language": "python",
   "name": "python3"
  },
  "language_info": {
   "codemirror_mode": {
    "name": "ipython",
    "version": 3
   },
   "file_extension": ".py",
   "mimetype": "text/x-python",
   "name": "python",
   "nbconvert_exporter": "python",
   "pygments_lexer": "ipython3",
   "version": "3.9.12"
  },
  "orig_nbformat": 4,
  "vscode": {
   "interpreter": {
    "hash": "fdef10015e310e18bb1b03c6e2d154ddadec9c59a1fe30b9a7c0b13350d0b918"
   }
  }
 },
 "nbformat": 4,
 "nbformat_minor": 2
}
